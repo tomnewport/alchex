{
 "cells": [
  {
   "cell_type": "code",
   "execution_count": 1,
   "metadata": {
    "collapsed": true
   },
   "outputs": [],
   "source": [
    "class GromacsITPFile(object):\n",
    "    def __init__(self, filename):\n",
    "        self.filename = filename\n",
    "    def read_residue(self, residue_name):\n",
    "        tables = {}\n",
    "        with open(self.filename, \"r\") as file_handle:\n",
    "            sectionline = 0\n",
    "            in_table = False\n",
    "            correct_section = False\n",
    "            for line in file_handle:\n",
    "                stripline = line.strip()\n",
    "                if len(stripline) > 0:\n",
    "                    if stripline[0] == \"[\" and stripline[-1] == \"]\":\n",
    "                        table_name = stripline[1:-1].strip()\n",
    "                        sectionline = 0\n",
    "                        in_table = True\n",
    "                    elif line[0] == \";\" and sectionline == 1:\n",
    "                        table_columns = line[1:].split()\n",
    "                    elif in_table:\n",
    "                        if table_name == \"moleculetype\":\n",
    "                            if stripline.split()[0] == residue_name:\n",
    "                                correct_section = True\n",
    "                            else:\n",
    "                                correct_section = False\n",
    "                        if table_name in [\"atoms\", \"bonds\", \"angles\"] and correct_section:\n",
    "                            if table_name not in tables:\n",
    "                                tables[table_name] = []\n",
    "                            tables[table_name].append({key: value for key, value in zip(table_columns, stripline.split())})\n",
    "                        \n",
    "                sectionline += 1\n",
    "        rp = ResidueParameters(residue_name)\n",
    "        for atom in tables[\"atoms\"]:\n",
    "            rp.add_atom(atom[\"id\"], atom)\n",
    "        for bond in tables[\"bonds\"]:\n",
    "            rp.add_bond(bond[\"i\"], bond[\"j\"], bond)\n",
    "        for angle in tables[\"angles\"]:\n",
    "            rp.add_angle(angle[\"i\"], angle[\"j\"], angle[\"k\"], angle)\n",
    "        return rp"
   ]
  },
  {
   "cell_type": "code",
   "execution_count": 2,
   "metadata": {
    "collapsed": true
   },
   "outputs": [],
   "source": [
    "class RPAtom(object):\n",
    "    def __init__(self, attrs):\n",
    "        self.attrs = attrs\n",
    "        self.i_bonded = []\n",
    "        self.j_bonded = []\n",
    "        self.i_angled = []\n",
    "        self.j_angled = []\n",
    "        self.k_angled = []\n",
    "    def bonded(self):\n",
    "        ba = []\n",
    "        for bond in self.i_bonded:\n",
    "            ba.append(bond.j_atom)\n",
    "        for bond in self.j_bonded:\n",
    "            ba.append(bond.i_atom)\n",
    "        return ba\n",
    "\n",
    "class RPBond(object):\n",
    "    def __init__(self, i_atom, j_atom, attrs):\n",
    "        i_atom.i_bonded.append(self)\n",
    "        j_atom.j_bonded.append(self)\n",
    "        self.attrs = attrs\n",
    "        self.i_atom = i_atom\n",
    "        self.j_atom = j_atom\n",
    "\n",
    "class RPAngle(object):\n",
    "    def __init__(self, i_atom, j_atom, k_atom, attrs):\n",
    "        i_atom.i_angled.append(self)\n",
    "        j_atom.j_angled.append(self)\n",
    "        k_atom.k_angled.append(self)\n",
    "        self.attrs = attrs\n",
    "        self.i_atom = i_atom\n",
    "        self.j_atom = j_atom\n",
    "        self.k_atom = k_atom\n",
    "\n",
    "class ResidueParameters(object):\n",
    "    def __init__(self, resname):\n",
    "        self.resname = resname\n",
    "        self.atoms = {}\n",
    "        self.bonds = []\n",
    "        self.angles = []\n",
    "    def add_atom(self, id, attributes):\n",
    "        self.atoms[id] = RPAtom(attributes)\n",
    "    def add_bond(self, i, j, attributes):\n",
    "        i_atom = self.atoms[i]\n",
    "        j_atom = self.atoms[j]\n",
    "        self.bonds.append(RPBond(i_atom, j_atom, attributes))\n",
    "    def add_angle(self, i, j, k, attributes):\n",
    "        i_atom = self.atoms[i]\n",
    "        j_atom = self.atoms[j]\n",
    "        k_atom = self.atoms[k]\n",
    "        self.angles.append(RPAngle(i_atom, j_atom, k_atom, attributes))"
   ]
  },
  {
   "cell_type": "code",
   "execution_count": 3,
   "metadata": {
    "collapsed": false
   },
   "outputs": [],
   "source": [
    "dlpg_itp = GromacsITPFile(\"data/DLPG.itp\")\n",
    "dlpg = dlpg_itp.read_residue(\"DLPG\")\n",
    "dvpe_itp = GromacsITPFile(\"data/DVPE.itp\")\n",
    "dvpe = dvpe_itp.read_residue(\"DVPE\")"
   ]
  },
  {
   "cell_type": "code",
   "execution_count": 20,
   "metadata": {
    "collapsed": false
   },
   "outputs": [
    {
     "name": "stdout",
     "output_type": "stream",
     "text": [
      "['GL0', 'C3A']\n",
      "['D3B', 'C4B', 'NH3', 'D3A', 'C4A']\n"
     ]
    }
   ],
   "source": [
    "from itertools import product\n",
    "\n",
    "def martini_type_similarity(type1, type2):\n",
    "    if type1 == type2:\n",
    "        return 1\n",
    "    else:\n",
    "        differences = {\n",
    "            \"C1.C3\" : 0.6\n",
    "        }\n",
    "        return getattr(differences, \".\".join(sorted([type1, type2])), 0)\n",
    "        \n",
    "\n",
    "class ExchangeMap(object):\n",
    "    def __init__(self, from_residue, to_residue):\n",
    "        self.from_residue = from_residue\n",
    "        self.to_residue = to_residue\n",
    "    def _new_martini_lipid(self):\n",
    "        from_atoms = {\n",
    "            k:(\n",
    "                atom.attrs[\"type\"], \n",
    "                [x.attrs[\"type\"] for x in atom.bonded()]\n",
    "            ) for k, atom in self.from_residue.atoms.items()\n",
    "        }\n",
    "        to_atoms = {\n",
    "            k:(\n",
    "                atom.attrs[\"type\"], \n",
    "                [x.attrs[\"type\"] for x in atom.bonded()]\n",
    "            ) for k, atom in self.to_residue.atoms.items()\n",
    "        }\n",
    "        from_by_type = {}\n",
    "        grow_maps = list()\n",
    "        done_maps = list()\n",
    "        for from_atom_id, (from_atom_type, from_connected_types) in from_atoms.items():\n",
    "            for to_atom_id, (to_atom_type, to_connected_types) in from_atoms.items():\n",
    "                if martini_type_similarity(from_atom_type, to_atom_type) > 0.5:\n",
    "                    # Atom types are similar\n",
    "                    candidate_map = {from_atom_id:to_atom_id}\n",
    "                    connected_similarity = 0\n",
    "                    for fc_type, tc_type in product(from_connected_types, to_connected_types):\n",
    "                        similarity = martini_type_similarity(fc_type, tc_type)\n",
    "                        connected_similarity += similarity                           \n",
    "                    if connected_similarity > 1:\n",
    "                        grow_maps.append(candidate_map)\n",
    "        iters = 0\n",
    "        while len(grow_maps) > 0 and iters < 1000:\n",
    "            iters += 1\n",
    "            a_b_map = grow_maps.pop()\n",
    "            grown = False\n",
    "            b_a_map = {v:k for k, v in a_b_map.items()}\n",
    "            for a_atom, b_atom in a_b_map.items():\n",
    "                new_map = {x:y for x, y in a_b_map.items()}\n",
    "                a_bonded_atoms = [atom for atom in self.from_residue.atoms[a_atom].bonded() \n",
    "                            if atom.attrs[\"id\"] not in a_b_map]\n",
    "                b_bonded_atoms = [atom for atom in self.to_residue.atoms[b_atom].bonded() \n",
    "                            if atom.attrs[\"id\"] not in b_a_map]\n",
    "                for a_bonded_atom in a_bonded_atoms:\n",
    "                    for b_bonded_atom in b_bonded_atoms:\n",
    "                        if martini_type_similarity(a_bonded_atom.attrs[\"type\"], b_bonded_atom.attrs[\"type\"]) > 0.5:\n",
    "                            new_map[a_bonded_atom.attrs[\"id\"]] = b_bonded_atom.attrs[\"id\"]\n",
    "                            if new_map not in grow_maps:\n",
    "                                grow_maps.append(new_map)\n",
    "                                grown = True\n",
    "            if not grown:\n",
    "                done_maps.append(a_b_map)\n",
    "                if len(done_maps) > 10:\n",
    "                    done_maps = sorted(done_maps, key=lambda x : -len(x))[:10]\n",
    "        direct_overlay = sorted(done_maps, key=lambda x : -len(x))[0]\n",
    "        al\n",
    "        \n",
    "                        \n",
    "    def new(self, scheme=\"martini-lipid\"):\n",
    "        if scheme == \"martini-lipid\":\n",
    "            self._new_martini_lipid()\n",
    "            \n",
    "x = ExchangeMap(dlpg, dvpe)\n",
    "x.new()"
   ]
  },
  {
   "cell_type": "code",
   "execution_count": 13,
   "metadata": {
    "collapsed": false
   },
   "outputs": [
    {
     "data": {
      "text/plain": [
       "True"
      ]
     },
     "execution_count": 13,
     "metadata": {},
     "output_type": "execute_result"
    }
   ],
   "source": [
    "a = [{1:2, 2:5}]\n",
    "{1:2, 2:5} in a"
   ]
  },
  {
   "cell_type": "code",
   "execution_count": null,
   "metadata": {
    "collapsed": true
   },
   "outputs": [],
   "source": []
  }
 ],
 "metadata": {
  "kernelspec": {
   "display_name": "Python 2",
   "language": "python",
   "name": "python2"
  },
  "language_info": {
   "codemirror_mode": {
    "name": "ipython",
    "version": 2
   },
   "file_extension": ".py",
   "mimetype": "text/x-python",
   "name": "python",
   "nbconvert_exporter": "python",
   "pygments_lexer": "ipython2",
   "version": "2.7.11"
  }
 },
 "nbformat": 4,
 "nbformat_minor": 0
}
