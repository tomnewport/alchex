{
 "cells": [
  {
   "cell_type": "code",
   "execution_count": 38,
   "metadata": {
    "collapsed": false
   },
   "outputs": [
    {
     "name": "stdout",
     "output_type": "stream",
     "text": [
      "[[ 0.58055705  0.58055705  0.58055705  0.58055705  0.58055705  0.58055705\n",
      "   0.58055705  0.58055705  0.58055705  0.58055705]\n",
      " [ 0.56302074  0.56302074  0.56302074  0.56302074  0.56302074  0.56302074\n",
      "   0.56302074  0.56302074  0.56302074  0.56302074]\n",
      " [ 0.95119859  0.95119859  0.95119859  0.95119859  0.95119859  0.95119859\n",
      "   0.95119859  0.95119859  0.95119859  0.95119859]]\n",
      "Points A\n",
      "[[ 0.67831992  0.2947016   0.30324323]\n",
      " [ 0.51767215  0.4661054   0.93989767]\n",
      " [ 0.33672341  0.26599397  0.07577242]\n",
      " [ 0.37946693  0.33454703  0.08305857]\n",
      " [ 0.45422435  0.04487615  0.62352145]\n",
      " [ 0.27127865  0.98050999  0.7532873 ]\n",
      " [ 0.5241908   0.64609404  0.93070554]\n",
      " [ 0.01198875  0.01690873  0.1468276 ]\n",
      " [ 0.3042946   0.17732595  0.26306415]\n",
      " [ 0.16464119  0.33238403  0.40279721]]\n",
      "\n",
      "Points B\n",
      "[[ 0.7479083   1.26041953  1.30411769]\n",
      " [ 1.37947379  1.40427462  1.10176507]\n",
      " [ 0.67438242  0.85832027  1.25758379]\n",
      " [ 0.70408029  0.89030563  1.32595478]\n",
      " [ 0.92482482  1.25065731  0.87538122]\n",
      " [ 1.6101389   1.03603273  1.51569355]\n",
      " [ 1.47149264  1.38285926  1.25537761]\n",
      " [ 0.69704801  0.64164564  0.90391266]\n",
      " [ 0.77703124  0.93104538  1.08975617]\n",
      " [ 1.01666789  0.8571378   1.10329706]]\n",
      "\n",
      "Rotation\n",
      "[[-0.33544984  0.56200925  0.7560549 ]\n",
      " [ 0.86869044 -0.12597679  0.47906864]\n",
      " [ 0.36448638  0.81748116 -0.44595317]]\n",
      "\n",
      "Translation\n",
      "[[ 0.58055705]\n",
      " [ 0.56302074]\n",
      " [ 0.95119859]]\n",
      "\n",
      "RMSE: 3.54576799537e-16\n",
      "If RMSE is near zero, the function is correct!\n"
     ]
    }
   ],
   "source": [
    "from numpy import *\n",
    "from math import sqrt\n",
    "\n",
    "# Input: expects Nx3 matrix of points\n",
    "# Returns R,t\n",
    "# R = 3x3 rotation matrix\n",
    "# t = 3x1 column vector\n",
    "\n",
    "def rigid_transform_3D(A, B):\n",
    "    assert len(A) == len(B)\n",
    "\n",
    "    N = A.shape[0]; # total points\n",
    "\n",
    "    centroid_A = mean(A, axis=0)\n",
    "    centroid_B = mean(B, axis=0)\n",
    "    \n",
    "    # centre the points\n",
    "    AA = A - tile(centroid_A, (N, 1))\n",
    "    BB = B - tile(centroid_B, (N, 1))\n",
    "\n",
    "    # dot is matrix multiplication for array\n",
    "    H = transpose(AA) * BB\n",
    "\n",
    "    U, S, Vt = linalg.svd(H)\n",
    "\n",
    "    R = Vt.T * U.T\n",
    "    # special reflection case\n",
    "    if linalg.det(R) < 0:\n",
    "       Vt[2,:] *= -1\n",
    "       R = Vt.T * U.T\n",
    "    t = -R*centroid_A.T + centroid_B.T\n",
    "\n",
    "    return R, t\n",
    "\n",
    "# Test with random data\n",
    "\n",
    "# Random rotation and translation\n",
    "R = mat(random.rand(3,3))\n",
    "t = mat(random.rand(3,1))\n",
    "\n",
    "# make R a proper rotation matrix, force orthonormal\n",
    "U, S, Vt = linalg.svd(R)\n",
    "R = U*Vt\n",
    "\n",
    "# remove reflection\n",
    "if linalg.det(R) < 0:\n",
    "   Vt[2,:] *= -1\n",
    "   R = U*Vt\n",
    "\n",
    "# number of points\n",
    "n = 10\n",
    "\n",
    "A = mat(random.rand(n,3));\n",
    "B = R*A.T + tile(t, (1, n))\n",
    "B = B.T;\n",
    "\n",
    "# Finished generating random data\n",
    "\n",
    "# recover the transformation\n",
    "ret_R, ret_t = rigid_transform_3D(A, B)\n",
    "\n",
    "A2 = (ret_R*A.T) + tile(ret_t, (1, n))\n",
    "A2 = A2.T\n",
    "\n",
    "# Find the error\n",
    "err = A2 - B\n",
    "\n",
    "err = multiply(err, err)\n",
    "err = sum(err)\n",
    "rmse = sqrt(err/n);\n",
    "\n",
    "print tile(ret_t, (1, n))\n",
    "\n",
    "print \"Points A\"\n",
    "print A\n",
    "print \"\"\n",
    "\n",
    "print \"Points B\"\n",
    "print B\n",
    "print \"\"\n",
    "\n",
    "print \"Rotation\"\n",
    "print R\n",
    "print \"\"\n",
    "\n",
    "print \"Translation\"\n",
    "print t\n",
    "print \"\"\n",
    "\n",
    "print \"RMSE:\", rmse\n",
    "print \"If RMSE is near zero, the function is correct!\""
   ]
  },
  {
   "cell_type": "code",
   "execution_count": 40,
   "metadata": {
    "collapsed": false
   },
   "outputs": [
    {
     "name": "stdout",
     "output_type": "stream",
     "text": [
      "[[-0.33544984  0.56200925  0.7560549   0.58055705]\n",
      " [ 0.86869044 -0.12597679  0.47906864  0.56302074]\n",
      " [ 0.36448638  0.81748116 -0.44595317  0.95119859]\n",
      " [ 0.          0.          0.          1.        ]]\n"
     ]
    },
    {
     "data": {
      "text/plain": [
       "array([[ 0.13899018,  0.59199213,  0.51879711,  1.84817105],\n",
       "       [ 0.57382816,  1.00056671,  0.1955347 ,  2.45699456],\n",
       "       [ 0.14573062,  0.21767513,  0.3482198 ,  1.41732189],\n",
       "       [ 0.1935994 ,  0.23901758,  0.41012859,  1.48766431],\n",
       "       [ 0.11387907,  0.75934197,  0.08685593,  1.88206207],\n",
       "       [ 1.03532223,  0.64473778,  0.33890228,  2.42606601],\n",
       "       [ 0.72464549,  0.97404147,  0.29078932,  2.5533728 ],\n",
       "       [ 0.06418348,  0.12463648, -0.04831364,  1.15614232],\n",
       "       [ 0.14784909,  0.36372741,  0.19770044,  1.52672481],\n",
       "       [ 0.38032407,  0.37993633,  0.10408385,  1.66586285]])"
      ]
     },
     "execution_count": 40,
     "metadata": {},
     "output_type": "execute_result"
    }
   ],
   "source": [
    "# Finished generating random data\n",
    "\n",
    "# recover the transformation\n",
    "ret_R, ret_t = rigid_transform_3D(A, B)\n",
    "r = zeros((4,4))\n",
    "r[3,3] = 1\n",
    "r[:3,:3] = ret_R\n",
    "\n",
    "t = zeros((4,4))\n",
    "fill_diagonal(t, 1)\n",
    "t[:3,3:] = ret_t\n",
    "\n",
    "tm = t.dot(r)\n",
    "print(tm)\n",
    "\n",
    "AE = pad(\n",
    "            A,\n",
    "            pad_width= ((0,0),) * (1) + ((0,1),), \n",
    "            mode=\"constant\", \n",
    "            constant_values=1\n",
    "        )\n",
    "AE.dot(tm)"
   ]
  },
  {
   "cell_type": "code",
   "execution_count": 49,
   "metadata": {
    "collapsed": true
   },
   "outputs": [],
   "source": [
    "def calc_rmse(m1, m2):\n",
    "    err = m1 - m2\n",
    "    err = multiply(err, err)\n",
    "    err = sum(err)\n",
    "    return sqrt(err/n)"
   ]
  },
  {
   "cell_type": "code",
   "execution_count": 50,
   "metadata": {
    "collapsed": false
   },
   "outputs": [
    {
     "data": {
      "text/plain": [
       "matrix([[ 0.16735125,  0.79891674,  0.09382537,  0.12352324,  0.34426777,\n",
       "          1.02958185,  0.89093559,  0.11649096,  0.19647419,  0.43611084],\n",
       "        [ 0.69739879,  0.84125388,  0.29529953,  0.32728489,  0.68763657,\n",
       "          0.47301199,  0.81983852,  0.0786249 ,  0.36802464,  0.29411707],\n",
       "        [ 0.3529191 ,  0.15056648,  0.3063852 ,  0.37475619, -0.07581737,\n",
       "          0.56449496,  0.30417902, -0.04728593,  0.13855757,  0.15209846]])"
      ]
     },
     "execution_count": 50,
     "metadata": {},
     "output_type": "execute_result"
    }
   ],
   "source": [
    "(ret_R*A.T)# + tile(ret_t, (1, n))"
   ]
  },
  {
   "cell_type": "code",
   "execution_count": 56,
   "metadata": {
    "collapsed": false
   },
   "outputs": [],
   "source": [
    "A22 = AE.dot(tm.T)[:,:3]"
   ]
  },
  {
   "cell_type": "code",
   "execution_count": 57,
   "metadata": {
    "collapsed": false
   },
   "outputs": [
    {
     "data": {
      "text/plain": [
       "3.5457679953657254e-16"
      ]
     },
     "execution_count": 57,
     "metadata": {},
     "output_type": "execute_result"
    }
   ],
   "source": [
    "calc_rmse(A22, B)"
   ]
  },
  {
   "cell_type": "code",
   "execution_count": 62,
   "metadata": {
    "collapsed": false
   },
   "outputs": [
    {
     "data": {
      "text/plain": [
       "array([[1, 2, 0],\n",
       "       [3, 4, 0],\n",
       "       [0, 0, 0]])"
      ]
     },
     "execution_count": 62,
     "metadata": {},
     "output_type": "execute_result"
    }
   ],
   "source": [
    "pad(array([[1,2],[3,4]]), pad_width = ((0,1),(0,1)), mode=\"constant\", constant_values=0)"
   ]
  },
  {
   "cell_type": "code",
   "execution_count": 95,
   "metadata": {
    "collapsed": true
   },
   "outputs": [],
   "source": [
    "-\n"
   ]
  },
  {
   "cell_type": "code",
   "execution_count": 99,
   "metadata": {
    "collapsed": false
   },
   "outputs": [
    {
     "name": "stdout",
     "output_type": "stream",
     "text": [
      "[[ 0.33995945]\n",
      " [ 0.42080479]\n",
      " [ 0.40620604]]\n",
      "[[-0.4764414   0.5672664   0.67172347  0.        ]\n",
      " [ 0.64185506 -0.29771422  0.70667413  0.        ]\n",
      " [ 0.60085412  0.76783792 -0.22225943  0.        ]\n",
      " [ 0.          0.          0.          1.        ]]\n",
      "[[-0.4764414   0.5672664   0.67172347  0.33995945]\n",
      " [ 0.64185506 -0.29771422  0.70667413  0.42080479]\n",
      " [ 0.60085412  0.76783792 -0.22225943  0.40620604]\n",
      " [ 0.          0.          0.          1.        ]]\n",
      "OLD METHOD\n",
      "\n",
      "Points A\n",
      "[[ 0.1796931   0.82220594  0.89739335]\n",
      " [ 0.68752836  0.99856767  0.49538035]\n",
      " [ 0.5590555   0.2594695   0.40425167]\n",
      " [ 0.14142356  0.89748377  0.27778341]\n",
      " [ 0.58263144  0.0063525   0.22215305]\n",
      " [ 0.1718634   0.37832264  0.32690388]\n",
      " [ 0.43607718  0.07733141  0.90069208]\n",
      " [ 0.71354312  0.95568195  0.44607042]\n",
      " [ 0.61037408  0.28385524  0.12235741]\n",
      " [ 0.11684451  0.9988394   0.78629493]]\n",
      "\n",
      "Points B\n",
      "[[ 1.32355619  0.92552397  0.94604214]\n",
      " [ 0.91160497  0.91488303  1.47594546]\n",
      " [ 0.49233593  0.98806382  0.85149862]\n",
      " [ 0.96828544  0.44068688  1.11856306]\n",
      " [ 0.21519868  0.94986831  0.71178462]\n",
      " [ 0.69227534  0.64949867  0.72730387]\n",
      " [ 0.78107775  1.31417627  0.52741549]\n",
      " [ 0.84176019  0.90950237  1.46960685]\n",
      " [ 0.29236385  0.81453556  0.96371155]\n",
      " [ 1.37907068  0.75408762  1.06859785]]\n",
      "\n",
      "Rotation\n",
      "[[-0.4764414   0.5672664   0.67172347]\n",
      " [ 0.64185506 -0.29771422  0.70667413]\n",
      " [ 0.60085412  0.76783792 -0.22225943]]\n",
      "\n",
      "Translation\n",
      "[[ 0.33995945]\n",
      " [ 0.42080479]\n",
      " [ 0.40620604]]\n",
      "\n",
      "RMSE: 3.2887721976e-16\n",
      "If RMSE is near zero, the function is correct!\n",
      "[[-0.4764414   0.5672664   0.67172347  0.33995945]\n",
      " [ 0.64185506 -0.29771422  0.70667413  0.42080479]\n",
      " [ 0.60085412  0.76783792 -0.22225943  0.40620604]\n",
      " [ 0.          0.          0.          1.        ]]\n"
     ]
    }
   ],
   "source": [
    "# Input: expects Nx3 matrix of points\n",
    "# Returns R,t\n",
    "# R = 3x3 rotation matrix\n",
    "# t = 3x1 column vector\n",
    "\n",
    "def rigid_transform_3D(A, B):\n",
    "    assert len(A) == len(B)\n",
    "\n",
    "    N = A.shape[0]; # total points\n",
    "\n",
    "    centroid_A = mean(A, axis=0)\n",
    "    centroid_B = mean(B, axis=0)\n",
    "    \n",
    "    # centre the points\n",
    "    AA = A - tile(centroid_A, (N, 1))\n",
    "    BB = B - tile(centroid_B, (N, 1))\n",
    "\n",
    "    # dot is matrix multiplication for array\n",
    "    H = transpose(AA) * BB\n",
    "\n",
    "    U, S, Vt = linalg.svd(H)\n",
    "\n",
    "    R = Vt.T * U.T\n",
    "    # special reflection case\n",
    "    if linalg.det(R) < 0:\n",
    "       Vt[2,:] *= -1\n",
    "       R = Vt.T * U.T\n",
    "    t = -R*centroid_A.T + centroid_B.T\n",
    "\n",
    "    return R, t\n",
    "\n",
    "# Test with random data\n",
    "\n",
    "# Random rotation and translation\n",
    "R = mat(random.rand(3,3))\n",
    "t = mat(random.rand(3,1))\n",
    "\n",
    "# make R a proper rotation matrix, force orthonormal\n",
    "U, S, Vt = linalg.svd(R)\n",
    "R = U*Vt\n",
    "\n",
    "# remove reflection\n",
    "if linalg.det(R) < 0:\n",
    "   Vt[2,:] *= -1\n",
    "   R = U*Vt\n",
    "\n",
    "# number of points\n",
    "n = 10\n",
    "\n",
    "A = mat(random.rand(n,3));\n",
    "B = R*A.T + tile(t, (1, n))\n",
    "B = B.T;\n",
    "\n",
    "# Finished generating random data\n",
    "\n",
    "# recover the transformation\n",
    "solve_3d_transformation(A, B)\n",
    "\n",
    "# recover the transformation\n",
    "ret_R, ret_t = rigid_transform_3D(A, B)\n",
    "\n",
    "A2 = (ret_R*A.T) + tile(ret_t, (1, n))\n",
    "A2 = A2.T\n",
    "\n",
    "# Find the error\n",
    "err = A2 - B\n",
    "\n",
    "err = multiply(err, err)\n",
    "err = sum(err)\n",
    "rmse = sqrt(err/n);\n",
    "\n",
    "print(\"OLD METHOD\\n\")\n",
    "\n",
    "print \"Points A\"\n",
    "print A\n",
    "print \"\"\n",
    "\n",
    "print \"Points B\"\n",
    "print B\n",
    "print \"\"\n",
    "\n",
    "print \"Rotation\"\n",
    "print R\n",
    "print \"\"\n",
    "\n",
    "print \"Translation\"\n",
    "print t\n",
    "print \"\"\n",
    "\n",
    "print \"RMSE:\", rmse\n",
    "print \"If RMSE is near zero, the function is correct!\"\n",
    "\n",
    "r = zeros((4,4))\n",
    "r[3,3] = 1\n",
    "r[:3,:3] = ret_R\n",
    "\n",
    "t = zeros((4,4))\n",
    "fill_diagonal(t, 1)\n",
    "t[:3,3:] = ret_t\n",
    "\n",
    "tm = t.dot(r)\n",
    "print(tm)\n",
    "\n",
    "AE = pad(\n",
    "            A,\n",
    "            pad_width= ((0,0),) * (1) + ((0,1),), \n",
    "            mode=\"constant\", \n",
    "            constant_values=1\n",
    "        )\n",
    "A22 = AE.dot(tm.T)[:,:3]\n"
   ]
  },
  {
   "cell_type": "code",
   "execution_count": 96,
   "metadata": {
    "collapsed": false
   },
   "outputs": [
    {
     "data": {
      "text/plain": [
       "(10, 3)"
      ]
     },
     "execution_count": 96,
     "metadata": {},
     "output_type": "execute_result"
    }
   ],
   "source": [
    "A.shape"
   ]
  },
  {
   "cell_type": "code",
   "execution_count": 100,
   "metadata": {
    "collapsed": false
   },
   "outputs": [
    {
     "name": "stdout",
     "output_type": "stream",
     "text": [
      "[[ 0.69418676]\n",
      " [ 0.13055762]\n",
      " [ 0.52150787]]\n",
      "[[-0.4899781  -0.06345943  0.86942185  0.        ]\n",
      " [ 0.72532967 -0.58290247  0.36622613  0.        ]\n",
      " [ 0.48354764  0.81006025  0.33163845  0.        ]\n",
      " [ 0.          0.          0.          1.        ]]\n",
      "[[-0.4899781  -0.06345943  0.86942185  0.69418676]\n",
      " [ 0.72532967 -0.58290247  0.36622613  0.13055762]\n",
      " [ 0.48354764  0.81006025  0.33163845  0.52150787]\n",
      " [ 0.          0.          0.          1.        ]]\n"
     ]
    },
    {
     "data": {
      "text/plain": [
       "(array([[-0.4899781 , -0.06345943,  0.86942185,  0.69418676],\n",
       "        [ 0.72532967, -0.58290247,  0.36622613,  0.13055762],\n",
       "        [ 0.48354764,  0.81006025,  0.33163845,  0.52150787],\n",
       "        [ 0.        ,  0.        ,  0.        ,  1.        ]]),\n",
       " 3.4077959472498144e-09,\n",
       " array([[ 0.57232678,  0.01149324,  1.13154135],\n",
       "        [ 0.61665812, -0.21100935,  1.25388114],\n",
       "        [ 0.86457814, -0.21766888,  1.29013596],\n",
       "        [ 0.80088173,  0.11991548,  1.18491826],\n",
       "        [ 0.63891594,  0.68518924,  1.04276649],\n",
       "        [ 0.7135013 ,  0.28620612,  1.41827874],\n",
       "        [ 1.0197748 ,  0.75158067,  1.81236037],\n",
       "        [ 1.01520482,  0.48747756,  1.34184818],\n",
       "        [ 0.58342516, -0.0235825 ,  1.34158791],\n",
       "        [ 0.50396425, -0.1964217 ,  1.41559847]]))"
      ]
     },
     "execution_count": 100,
     "metadata": {},
     "output_type": "execute_result"
    }
   ],
   "source": [
    "pa = mat([[ 0.26832805,  0.57129996,  0.05275835],\n",
    " [ 0.14437605,  0.79728663,  0.0503873 ],\n",
    " [ 0.03560124,  0.81480421,  0.27551898],\n",
    " [ 0.26079327 , 0.53683492 , 0.30887791],\n",
    " [ 0.68142564 , 0.1024622 ,  0.32793634],\n",
    " [ 0.53706422 , 0.63448485 , 0.37119874],\n",
    " [ 0.91510412 , 0.6630108 ,  0.93860456],\n",
    " [ 0.49826643 , 0.43610394 , 0.68186992],\n",
    " [ 0.33901613 , 0.76119177 , 0.11922139],\n",
    " [ 0.28837246 , 0.92693572 , 0.01138285]])\n",
    "\n",
    "pb = mat([[ 0.57232678 , 0.01149324 , 1.13154136],\n",
    " [ 0.61665812, -0.21100935,  1.25388114],\n",
    " [ 0.86457814, -0.21766888 , 1.29013596],\n",
    " [ 0.80088173, 0.11991548 , 1.18491826],\n",
    " [ 0.63891594 , 0.68518925 , 1.04276649],\n",
    " [ 0.71350129 , 0.28620612 , 1.41827874],\n",
    " [ 1.0197748 ,  0.75158067 , 1.81236037],\n",
    " [ 1.01520482 , 0.48747756 , 1.34184818],\n",
    " [ 0.58342516, -0.0235825  , 1.34158791],\n",
    " [ 0.50396425 ,-0.1964217 ,  1.41559847]])\n",
    "\n",
    "solve_3d_transformation(pa, pb)"
   ]
  },
  {
   "cell_type": "code",
   "execution_count": 103,
   "metadata": {
    "collapsed": false
   },
   "outputs": [
    {
     "data": {
      "text/plain": [
       "array([ 1.])"
      ]
     },
     "execution_count": 103,
     "metadata": {},
     "output_type": "execute_result"
    }
   ],
   "source": [
    "linspace(1,0,1)"
   ]
  },
  {
   "cell_type": "code",
   "execution_count": 108,
   "metadata": {
    "collapsed": false
   },
   "outputs": [
    {
     "data": {
      "text/plain": [
       "matrix([[ 0.26832805,  0.57129996,  0.05275835]])"
      ]
     },
     "execution_count": 108,
     "metadata": {},
     "output_type": "execute_result"
    }
   ],
   "source": [
    "g[0,:]"
   ]
  },
  {
   "cell_type": "code",
   "execution_count": null,
   "metadata": {
    "collapsed": true
   },
   "outputs": [],
   "source": []
  }
 ],
 "metadata": {
  "kernelspec": {
   "display_name": "Python 2",
   "language": "python",
   "name": "python2"
  },
  "language_info": {
   "codemirror_mode": {
    "name": "ipython",
    "version": 2
   },
   "file_extension": ".py",
   "mimetype": "text/x-python",
   "name": "python",
   "nbconvert_exporter": "python",
   "pygments_lexer": "ipython2",
   "version": "2.7.11"
  }
 },
 "nbformat": 4,
 "nbformat_minor": 0
}
