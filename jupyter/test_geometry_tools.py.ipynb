{
 "cells": [
  {
   "cell_type": "code",
   "execution_count": 17,
   "metadata": {
    "collapsed": false
   },
   "outputs": [
    {
     "name": "stdout",
     "output_type": "stream",
     "text": [
      "Warning: Cannot change to a different GUI toolkit: notebook. Using qt instead.\n"
     ]
    }
   ],
   "source": [
    "%matplotlib notebook\n",
    "\n",
    "from geometry_tools import PointCloud, TransformationMatrix, solve_3d_transformation\n",
    "\n",
    "ref_points = PointCloud(3)\n",
    "ref_points.randomsetup(lines=0, points=300)\n",
    "t = TransformationMatrix(3)\n",
    "t.translate(1,2,3)\n",
    "t.rotate_3d(0.85,[1,0,0])\n",
    "#t.randomise_3d()\n",
    "#t.randomise_3d()\n",
    "op_points = ref_points.clone()\n",
    "op_points.transform(t)\n",
    "#op_points.mutate()\n",
    "transformation, rmse, aligned = ref_points.paired_3d_align(op_points)\n",
    "ref_points.plot_3d_transform(transformation)"
   ]
  },
  {
   "cell_type": "code",
   "execution_count": null,
   "metadata": {
    "collapsed": true
   },
   "outputs": [],
   "source": []
  }
 ],
 "metadata": {
  "kernelspec": {
   "display_name": "Python 2",
   "language": "python",
   "name": "python2"
  },
  "language_info": {
   "codemirror_mode": {
    "name": "ipython",
    "version": 2
   },
   "file_extension": ".py",
   "mimetype": "text/x-python",
   "name": "python",
   "nbconvert_exporter": "python",
   "pygments_lexer": "ipython2",
   "version": "2.7.11"
  }
 },
 "nbformat": 4,
 "nbformat_minor": 0
}
